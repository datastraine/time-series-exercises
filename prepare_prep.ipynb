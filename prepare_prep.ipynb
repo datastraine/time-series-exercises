{
 "cells": [
  {
   "cell_type": "code",
   "execution_count": null,
   "metadata": {},
   "outputs": [],
   "source": [
    "import pandas as pd\n",
    "import numpy as np\n",
    "import acquire as ac\n",
    "print('Success')"
   ]
  },
  {
   "cell_type": "markdown",
   "metadata": {},
   "source": [
    "# Zach Data\n",
    "\n",
    "Make sure all the work that you have done above is reproducible. That is, you should put the code above into separate functions \n",
    "and be able to re-run the functions and get the same results."
   ]
  },
  {
   "cell_type": "code",
   "execution_count": null,
   "metadata": {
    "scrolled": true
   },
   "outputs": [],
   "source": [
    "df = ac.all_zach_data()\n",
    "df"
   ]
  },
  {
   "cell_type": "markdown",
   "metadata": {},
   "source": [
    "Convert date column to datetime format."
   ]
  },
  {
   "cell_type": "code",
   "execution_count": null,
   "metadata": {},
   "outputs": [],
   "source": [
    "df['sale_date'] = pd.to_datetime(df.sale_date, format='%a, %d %b %Y %H:%M:%S %Z')\n",
    "df"
   ]
  },
  {
   "cell_type": "markdown",
   "metadata": {},
   "source": [
    "Plot the distribution of sale_amount and item_price."
   ]
  },
  {
   "cell_type": "code",
   "execution_count": null,
   "metadata": {
    "scrolled": true
   },
   "outputs": [],
   "source": [
    "print(df['sale_amount'].plot.hist())"
   ]
  },
  {
   "cell_type": "code",
   "execution_count": null,
   "metadata": {},
   "outputs": [],
   "source": [
    "df['item_price'].plot.hist()"
   ]
  },
  {
   "cell_type": "markdown",
   "metadata": {},
   "source": [
    "Set the index to be the datetime variable."
   ]
  },
  {
   "cell_type": "code",
   "execution_count": null,
   "metadata": {},
   "outputs": [],
   "source": [
    "df.set_index('sale_date', inplace=True)"
   ]
  },
  {
   "cell_type": "markdown",
   "metadata": {},
   "source": [
    "Add a 'month' and 'day of week' column to your dataframe."
   ]
  },
  {
   "cell_type": "code",
   "execution_count": null,
   "metadata": {
    "scrolled": true
   },
   "outputs": [],
   "source": [
    "df['day'] = df.index.day_name()\n",
    "df['month'] = df.index.month\n",
    "df"
   ]
  },
  {
   "cell_type": "markdown",
   "metadata": {},
   "source": [
    "Add a column to your dataframe, sales_total, which is a derived from sale_amount (total items) and item_price."
   ]
  },
  {
   "cell_type": "code",
   "execution_count": null,
   "metadata": {},
   "outputs": [],
   "source": [
    "df['sales_total'] = df['sale_amount'] * df['item_price']\n",
    "df"
   ]
  },
  {
   "cell_type": "markdown",
   "metadata": {},
   "source": [
    "# OPS\n",
    "Make sure all the work that you have done above is reproducible. That is, you should put the code above into separate functions and be able to re-run the functions and get the same results."
   ]
  },
  {
   "cell_type": "code",
   "execution_count": null,
   "metadata": {},
   "outputs": [],
   "source": [
    "deelectric = ac.get_de_electric()\n",
    "deelectric"
   ]
  },
  {
   "cell_type": "markdown",
   "metadata": {},
   "source": [
    "Convert date column to datetime format."
   ]
  },
  {
   "cell_type": "code",
   "execution_count": null,
   "metadata": {},
   "outputs": [],
   "source": [
    "deelectric['Date'] = pd.to_datetime(deelectric.Date)\n",
    "deelectric"
   ]
  },
  {
   "cell_type": "markdown",
   "metadata": {},
   "source": [
    "Plot the distribution of each of your variables."
   ]
  },
  {
   "cell_type": "code",
   "execution_count": null,
   "metadata": {},
   "outputs": [],
   "source": [
    "deelectric['Consumption'].plot.hist()"
   ]
  },
  {
   "cell_type": "code",
   "execution_count": null,
   "metadata": {},
   "outputs": [],
   "source": [
    "deelectric['Wind'].plot.hist()"
   ]
  },
  {
   "cell_type": "code",
   "execution_count": null,
   "metadata": {},
   "outputs": [],
   "source": [
    "deelectric['Solar'].plot.hist()"
   ]
  },
  {
   "cell_type": "code",
   "execution_count": null,
   "metadata": {},
   "outputs": [],
   "source": [
    "deelectric['Wind+Solar'].plot.hist()"
   ]
  },
  {
   "cell_type": "markdown",
   "metadata": {},
   "source": [
    "Set the index to be the datetime variable."
   ]
  },
  {
   "cell_type": "code",
   "execution_count": null,
   "metadata": {},
   "outputs": [],
   "source": [
    "deelectric.set_index('Date', inplace=True)\n",
    "deelectric"
   ]
  },
  {
   "cell_type": "markdown",
   "metadata": {},
   "source": [
    "Add a month and a year column to your dataframe."
   ]
  },
  {
   "cell_type": "code",
   "execution_count": null,
   "metadata": {
    "scrolled": true
   },
   "outputs": [],
   "source": [
    "deelectric['month'] = deelectric.index.month\n",
    "deelectric['year'] = deelectric.index.year\n",
    "deelectric"
   ]
  },
  {
   "cell_type": "markdown",
   "metadata": {},
   "source": [
    "Fill any missing values."
   ]
  },
  {
   "cell_type": "code",
   "execution_count": null,
   "metadata": {},
   "outputs": [],
   "source": [
    "deelectric.fillna(0, inplace=True)\n",
    "deelectric"
   ]
  },
  {
   "cell_type": "code",
   "execution_count": 1,
   "metadata": {},
   "outputs": [
    {
     "name": "stdout",
     "output_type": "stream",
     "text": [
      "AxesSubplot(0.125,0.125;0.775x0.755)\n",
      "AxesSubplot(0.125,0.125;0.775x0.755)\n"
     ]
    },
    {
     "data": {
      "text/html": [
       "<div>\n",
       "<style scoped>\n",
       "    .dataframe tbody tr th:only-of-type {\n",
       "        vertical-align: middle;\n",
       "    }\n",
       "\n",
       "    .dataframe tbody tr th {\n",
       "        vertical-align: top;\n",
       "    }\n",
       "\n",
       "    .dataframe thead th {\n",
       "        text-align: right;\n",
       "    }\n",
       "</style>\n",
       "<table border=\"1\" class=\"dataframe\">\n",
       "  <thead>\n",
       "    <tr style=\"text-align: right;\">\n",
       "      <th></th>\n",
       "      <th>item</th>\n",
       "      <th>sale_amount</th>\n",
       "      <th>sale_id</th>\n",
       "      <th>store</th>\n",
       "      <th>store_address</th>\n",
       "      <th>store_city</th>\n",
       "      <th>store_id</th>\n",
       "      <th>store_state</th>\n",
       "      <th>store_zipcode</th>\n",
       "      <th>item_brand</th>\n",
       "      <th>item_id</th>\n",
       "      <th>item_name</th>\n",
       "      <th>item_price</th>\n",
       "      <th>item_upc12</th>\n",
       "      <th>item_upc14</th>\n",
       "      <th>day</th>\n",
       "      <th>month</th>\n",
       "      <th>sales_total</th>\n",
       "    </tr>\n",
       "    <tr>\n",
       "      <th>sale_date</th>\n",
       "      <th></th>\n",
       "      <th></th>\n",
       "      <th></th>\n",
       "      <th></th>\n",
       "      <th></th>\n",
       "      <th></th>\n",
       "      <th></th>\n",
       "      <th></th>\n",
       "      <th></th>\n",
       "      <th></th>\n",
       "      <th></th>\n",
       "      <th></th>\n",
       "      <th></th>\n",
       "      <th></th>\n",
       "      <th></th>\n",
       "      <th></th>\n",
       "      <th></th>\n",
       "      <th></th>\n",
       "    </tr>\n",
       "  </thead>\n",
       "  <tbody>\n",
       "    <tr>\n",
       "      <th>2013-01-01 00:00:00+00:00</th>\n",
       "      <td>1</td>\n",
       "      <td>13.0</td>\n",
       "      <td>1</td>\n",
       "      <td>1</td>\n",
       "      <td>12125 Alamo Ranch Pkwy</td>\n",
       "      <td>San Antonio</td>\n",
       "      <td>1</td>\n",
       "      <td>TX</td>\n",
       "      <td>78253</td>\n",
       "      <td>Riceland</td>\n",
       "      <td>1</td>\n",
       "      <td>Riceland American Jazmine Rice</td>\n",
       "      <td>0.84</td>\n",
       "      <td>35200264013</td>\n",
       "      <td>35200264013</td>\n",
       "      <td>&lt;bound method inherit_from_data.&lt;locals&gt;.metho...</td>\n",
       "      <td>1</td>\n",
       "      <td>10.92</td>\n",
       "    </tr>\n",
       "    <tr>\n",
       "      <th>2013-01-02 00:00:00+00:00</th>\n",
       "      <td>1</td>\n",
       "      <td>11.0</td>\n",
       "      <td>2</td>\n",
       "      <td>1</td>\n",
       "      <td>12125 Alamo Ranch Pkwy</td>\n",
       "      <td>San Antonio</td>\n",
       "      <td>1</td>\n",
       "      <td>TX</td>\n",
       "      <td>78253</td>\n",
       "      <td>Riceland</td>\n",
       "      <td>1</td>\n",
       "      <td>Riceland American Jazmine Rice</td>\n",
       "      <td>0.84</td>\n",
       "      <td>35200264013</td>\n",
       "      <td>35200264013</td>\n",
       "      <td>&lt;bound method inherit_from_data.&lt;locals&gt;.metho...</td>\n",
       "      <td>1</td>\n",
       "      <td>9.24</td>\n",
       "    </tr>\n",
       "    <tr>\n",
       "      <th>2013-01-03 00:00:00+00:00</th>\n",
       "      <td>1</td>\n",
       "      <td>14.0</td>\n",
       "      <td>3</td>\n",
       "      <td>1</td>\n",
       "      <td>12125 Alamo Ranch Pkwy</td>\n",
       "      <td>San Antonio</td>\n",
       "      <td>1</td>\n",
       "      <td>TX</td>\n",
       "      <td>78253</td>\n",
       "      <td>Riceland</td>\n",
       "      <td>1</td>\n",
       "      <td>Riceland American Jazmine Rice</td>\n",
       "      <td>0.84</td>\n",
       "      <td>35200264013</td>\n",
       "      <td>35200264013</td>\n",
       "      <td>&lt;bound method inherit_from_data.&lt;locals&gt;.metho...</td>\n",
       "      <td>1</td>\n",
       "      <td>11.76</td>\n",
       "    </tr>\n",
       "    <tr>\n",
       "      <th>2013-01-04 00:00:00+00:00</th>\n",
       "      <td>1</td>\n",
       "      <td>13.0</td>\n",
       "      <td>4</td>\n",
       "      <td>1</td>\n",
       "      <td>12125 Alamo Ranch Pkwy</td>\n",
       "      <td>San Antonio</td>\n",
       "      <td>1</td>\n",
       "      <td>TX</td>\n",
       "      <td>78253</td>\n",
       "      <td>Riceland</td>\n",
       "      <td>1</td>\n",
       "      <td>Riceland American Jazmine Rice</td>\n",
       "      <td>0.84</td>\n",
       "      <td>35200264013</td>\n",
       "      <td>35200264013</td>\n",
       "      <td>&lt;bound method inherit_from_data.&lt;locals&gt;.metho...</td>\n",
       "      <td>1</td>\n",
       "      <td>10.92</td>\n",
       "    </tr>\n",
       "    <tr>\n",
       "      <th>2013-01-05 00:00:00+00:00</th>\n",
       "      <td>1</td>\n",
       "      <td>10.0</td>\n",
       "      <td>5</td>\n",
       "      <td>1</td>\n",
       "      <td>12125 Alamo Ranch Pkwy</td>\n",
       "      <td>San Antonio</td>\n",
       "      <td>1</td>\n",
       "      <td>TX</td>\n",
       "      <td>78253</td>\n",
       "      <td>Riceland</td>\n",
       "      <td>1</td>\n",
       "      <td>Riceland American Jazmine Rice</td>\n",
       "      <td>0.84</td>\n",
       "      <td>35200264013</td>\n",
       "      <td>35200264013</td>\n",
       "      <td>&lt;bound method inherit_from_data.&lt;locals&gt;.metho...</td>\n",
       "      <td>1</td>\n",
       "      <td>8.40</td>\n",
       "    </tr>\n",
       "    <tr>\n",
       "      <th>...</th>\n",
       "      <td>...</td>\n",
       "      <td>...</td>\n",
       "      <td>...</td>\n",
       "      <td>...</td>\n",
       "      <td>...</td>\n",
       "      <td>...</td>\n",
       "      <td>...</td>\n",
       "      <td>...</td>\n",
       "      <td>...</td>\n",
       "      <td>...</td>\n",
       "      <td>...</td>\n",
       "      <td>...</td>\n",
       "      <td>...</td>\n",
       "      <td>...</td>\n",
       "      <td>...</td>\n",
       "      <td>...</td>\n",
       "      <td>...</td>\n",
       "      <td>...</td>\n",
       "    </tr>\n",
       "    <tr>\n",
       "      <th>2017-12-27 00:00:00+00:00</th>\n",
       "      <td>50</td>\n",
       "      <td>63.0</td>\n",
       "      <td>912996</td>\n",
       "      <td>10</td>\n",
       "      <td>8503 NW Military Hwy</td>\n",
       "      <td>San Antonio</td>\n",
       "      <td>10</td>\n",
       "      <td>TX</td>\n",
       "      <td>78231</td>\n",
       "      <td>Choice</td>\n",
       "      <td>50</td>\n",
       "      <td>Choice Organic Teas Black Tea Classic Black - ...</td>\n",
       "      <td>5.20</td>\n",
       "      <td>47445919221</td>\n",
       "      <td>47445919221</td>\n",
       "      <td>&lt;bound method inherit_from_data.&lt;locals&gt;.metho...</td>\n",
       "      <td>12</td>\n",
       "      <td>327.60</td>\n",
       "    </tr>\n",
       "    <tr>\n",
       "      <th>2017-12-28 00:00:00+00:00</th>\n",
       "      <td>50</td>\n",
       "      <td>59.0</td>\n",
       "      <td>912997</td>\n",
       "      <td>10</td>\n",
       "      <td>8503 NW Military Hwy</td>\n",
       "      <td>San Antonio</td>\n",
       "      <td>10</td>\n",
       "      <td>TX</td>\n",
       "      <td>78231</td>\n",
       "      <td>Choice</td>\n",
       "      <td>50</td>\n",
       "      <td>Choice Organic Teas Black Tea Classic Black - ...</td>\n",
       "      <td>5.20</td>\n",
       "      <td>47445919221</td>\n",
       "      <td>47445919221</td>\n",
       "      <td>&lt;bound method inherit_from_data.&lt;locals&gt;.metho...</td>\n",
       "      <td>12</td>\n",
       "      <td>306.80</td>\n",
       "    </tr>\n",
       "    <tr>\n",
       "      <th>2017-12-29 00:00:00+00:00</th>\n",
       "      <td>50</td>\n",
       "      <td>74.0</td>\n",
       "      <td>912998</td>\n",
       "      <td>10</td>\n",
       "      <td>8503 NW Military Hwy</td>\n",
       "      <td>San Antonio</td>\n",
       "      <td>10</td>\n",
       "      <td>TX</td>\n",
       "      <td>78231</td>\n",
       "      <td>Choice</td>\n",
       "      <td>50</td>\n",
       "      <td>Choice Organic Teas Black Tea Classic Black - ...</td>\n",
       "      <td>5.20</td>\n",
       "      <td>47445919221</td>\n",
       "      <td>47445919221</td>\n",
       "      <td>&lt;bound method inherit_from_data.&lt;locals&gt;.metho...</td>\n",
       "      <td>12</td>\n",
       "      <td>384.80</td>\n",
       "    </tr>\n",
       "    <tr>\n",
       "      <th>2017-12-30 00:00:00+00:00</th>\n",
       "      <td>50</td>\n",
       "      <td>62.0</td>\n",
       "      <td>912999</td>\n",
       "      <td>10</td>\n",
       "      <td>8503 NW Military Hwy</td>\n",
       "      <td>San Antonio</td>\n",
       "      <td>10</td>\n",
       "      <td>TX</td>\n",
       "      <td>78231</td>\n",
       "      <td>Choice</td>\n",
       "      <td>50</td>\n",
       "      <td>Choice Organic Teas Black Tea Classic Black - ...</td>\n",
       "      <td>5.20</td>\n",
       "      <td>47445919221</td>\n",
       "      <td>47445919221</td>\n",
       "      <td>&lt;bound method inherit_from_data.&lt;locals&gt;.metho...</td>\n",
       "      <td>12</td>\n",
       "      <td>322.40</td>\n",
       "    </tr>\n",
       "    <tr>\n",
       "      <th>2017-12-31 00:00:00+00:00</th>\n",
       "      <td>50</td>\n",
       "      <td>82.0</td>\n",
       "      <td>913000</td>\n",
       "      <td>10</td>\n",
       "      <td>8503 NW Military Hwy</td>\n",
       "      <td>San Antonio</td>\n",
       "      <td>10</td>\n",
       "      <td>TX</td>\n",
       "      <td>78231</td>\n",
       "      <td>Choice</td>\n",
       "      <td>50</td>\n",
       "      <td>Choice Organic Teas Black Tea Classic Black - ...</td>\n",
       "      <td>5.20</td>\n",
       "      <td>47445919221</td>\n",
       "      <td>47445919221</td>\n",
       "      <td>&lt;bound method inherit_from_data.&lt;locals&gt;.metho...</td>\n",
       "      <td>12</td>\n",
       "      <td>426.40</td>\n",
       "    </tr>\n",
       "  </tbody>\n",
       "</table>\n",
       "<p>913000 rows × 18 columns</p>\n",
       "</div>"
      ],
      "text/plain": [
       "                           item  sale_amount  sale_id  store  \\\n",
       "sale_date                                                      \n",
       "2013-01-01 00:00:00+00:00     1         13.0        1      1   \n",
       "2013-01-02 00:00:00+00:00     1         11.0        2      1   \n",
       "2013-01-03 00:00:00+00:00     1         14.0        3      1   \n",
       "2013-01-04 00:00:00+00:00     1         13.0        4      1   \n",
       "2013-01-05 00:00:00+00:00     1         10.0        5      1   \n",
       "...                         ...          ...      ...    ...   \n",
       "2017-12-27 00:00:00+00:00    50         63.0   912996     10   \n",
       "2017-12-28 00:00:00+00:00    50         59.0   912997     10   \n",
       "2017-12-29 00:00:00+00:00    50         74.0   912998     10   \n",
       "2017-12-30 00:00:00+00:00    50         62.0   912999     10   \n",
       "2017-12-31 00:00:00+00:00    50         82.0   913000     10   \n",
       "\n",
       "                                    store_address   store_city  store_id  \\\n",
       "sale_date                                                                  \n",
       "2013-01-01 00:00:00+00:00  12125 Alamo Ranch Pkwy  San Antonio         1   \n",
       "2013-01-02 00:00:00+00:00  12125 Alamo Ranch Pkwy  San Antonio         1   \n",
       "2013-01-03 00:00:00+00:00  12125 Alamo Ranch Pkwy  San Antonio         1   \n",
       "2013-01-04 00:00:00+00:00  12125 Alamo Ranch Pkwy  San Antonio         1   \n",
       "2013-01-05 00:00:00+00:00  12125 Alamo Ranch Pkwy  San Antonio         1   \n",
       "...                                           ...          ...       ...   \n",
       "2017-12-27 00:00:00+00:00    8503 NW Military Hwy  San Antonio        10   \n",
       "2017-12-28 00:00:00+00:00    8503 NW Military Hwy  San Antonio        10   \n",
       "2017-12-29 00:00:00+00:00    8503 NW Military Hwy  San Antonio        10   \n",
       "2017-12-30 00:00:00+00:00    8503 NW Military Hwy  San Antonio        10   \n",
       "2017-12-31 00:00:00+00:00    8503 NW Military Hwy  San Antonio        10   \n",
       "\n",
       "                          store_state  store_zipcode item_brand  item_id  \\\n",
       "sale_date                                                                  \n",
       "2013-01-01 00:00:00+00:00          TX          78253   Riceland        1   \n",
       "2013-01-02 00:00:00+00:00          TX          78253   Riceland        1   \n",
       "2013-01-03 00:00:00+00:00          TX          78253   Riceland        1   \n",
       "2013-01-04 00:00:00+00:00          TX          78253   Riceland        1   \n",
       "2013-01-05 00:00:00+00:00          TX          78253   Riceland        1   \n",
       "...                               ...            ...        ...      ...   \n",
       "2017-12-27 00:00:00+00:00          TX          78231     Choice       50   \n",
       "2017-12-28 00:00:00+00:00          TX          78231     Choice       50   \n",
       "2017-12-29 00:00:00+00:00          TX          78231     Choice       50   \n",
       "2017-12-30 00:00:00+00:00          TX          78231     Choice       50   \n",
       "2017-12-31 00:00:00+00:00          TX          78231     Choice       50   \n",
       "\n",
       "                                                                   item_name  \\\n",
       "sale_date                                                                      \n",
       "2013-01-01 00:00:00+00:00                     Riceland American Jazmine Rice   \n",
       "2013-01-02 00:00:00+00:00                     Riceland American Jazmine Rice   \n",
       "2013-01-03 00:00:00+00:00                     Riceland American Jazmine Rice   \n",
       "2013-01-04 00:00:00+00:00                     Riceland American Jazmine Rice   \n",
       "2013-01-05 00:00:00+00:00                     Riceland American Jazmine Rice   \n",
       "...                                                                      ...   \n",
       "2017-12-27 00:00:00+00:00  Choice Organic Teas Black Tea Classic Black - ...   \n",
       "2017-12-28 00:00:00+00:00  Choice Organic Teas Black Tea Classic Black - ...   \n",
       "2017-12-29 00:00:00+00:00  Choice Organic Teas Black Tea Classic Black - ...   \n",
       "2017-12-30 00:00:00+00:00  Choice Organic Teas Black Tea Classic Black - ...   \n",
       "2017-12-31 00:00:00+00:00  Choice Organic Teas Black Tea Classic Black - ...   \n",
       "\n",
       "                           item_price   item_upc12   item_upc14  \\\n",
       "sale_date                                                         \n",
       "2013-01-01 00:00:00+00:00        0.84  35200264013  35200264013   \n",
       "2013-01-02 00:00:00+00:00        0.84  35200264013  35200264013   \n",
       "2013-01-03 00:00:00+00:00        0.84  35200264013  35200264013   \n",
       "2013-01-04 00:00:00+00:00        0.84  35200264013  35200264013   \n",
       "2013-01-05 00:00:00+00:00        0.84  35200264013  35200264013   \n",
       "...                               ...          ...          ...   \n",
       "2017-12-27 00:00:00+00:00        5.20  47445919221  47445919221   \n",
       "2017-12-28 00:00:00+00:00        5.20  47445919221  47445919221   \n",
       "2017-12-29 00:00:00+00:00        5.20  47445919221  47445919221   \n",
       "2017-12-30 00:00:00+00:00        5.20  47445919221  47445919221   \n",
       "2017-12-31 00:00:00+00:00        5.20  47445919221  47445919221   \n",
       "\n",
       "                                                                         day  \\\n",
       "sale_date                                                                      \n",
       "2013-01-01 00:00:00+00:00  <bound method inherit_from_data.<locals>.metho...   \n",
       "2013-01-02 00:00:00+00:00  <bound method inherit_from_data.<locals>.metho...   \n",
       "2013-01-03 00:00:00+00:00  <bound method inherit_from_data.<locals>.metho...   \n",
       "2013-01-04 00:00:00+00:00  <bound method inherit_from_data.<locals>.metho...   \n",
       "2013-01-05 00:00:00+00:00  <bound method inherit_from_data.<locals>.metho...   \n",
       "...                                                                      ...   \n",
       "2017-12-27 00:00:00+00:00  <bound method inherit_from_data.<locals>.metho...   \n",
       "2017-12-28 00:00:00+00:00  <bound method inherit_from_data.<locals>.metho...   \n",
       "2017-12-29 00:00:00+00:00  <bound method inherit_from_data.<locals>.metho...   \n",
       "2017-12-30 00:00:00+00:00  <bound method inherit_from_data.<locals>.metho...   \n",
       "2017-12-31 00:00:00+00:00  <bound method inherit_from_data.<locals>.metho...   \n",
       "\n",
       "                           month  sales_total  \n",
       "sale_date                                      \n",
       "2013-01-01 00:00:00+00:00      1        10.92  \n",
       "2013-01-02 00:00:00+00:00      1         9.24  \n",
       "2013-01-03 00:00:00+00:00      1        11.76  \n",
       "2013-01-04 00:00:00+00:00      1        10.92  \n",
       "2013-01-05 00:00:00+00:00      1         8.40  \n",
       "...                          ...          ...  \n",
       "2017-12-27 00:00:00+00:00     12       327.60  \n",
       "2017-12-28 00:00:00+00:00     12       306.80  \n",
       "2017-12-29 00:00:00+00:00     12       384.80  \n",
       "2017-12-30 00:00:00+00:00     12       322.40  \n",
       "2017-12-31 00:00:00+00:00     12       426.40  \n",
       "\n",
       "[913000 rows x 18 columns]"
      ]
     },
     "execution_count": 1,
     "metadata": {},
     "output_type": "execute_result"
    },
    {
     "data": {
      "image/png": "[encoded data removed]",
      "text/plain": [
       "<Figure size 432x288 with 1 Axes>"
      ]
     },
     "metadata": {
      "needs_background": "light"
     },
     "output_type": "display_data"
    }
   ],
   "source": [
    "import prep\n",
    "df = prep.prep_zach()\n",
    "df"
   ]
  },
  {
   "cell_type": "code",
   "execution_count": null,
   "metadata": {},
   "outputs": [],
   "source": []
  }
 ],
 "metadata": {
  "kernelspec": {
   "display_name": "Python 3",
   "language": "python",
   "name": "python3"
  },
  "language_info": {
   "codemirror_mode": {
    "name": "ipython",
    "version": 3
   },
   "file_extension": ".py",
   "mimetype": "text/x-python",
   "name": "python",
   "nbconvert_exporter": "python",
   "pygments_lexer": "ipython3",
   "version": "3.8.3"
  }
 },
 "nbformat": 4,
 "nbformat_minor": 4
}
